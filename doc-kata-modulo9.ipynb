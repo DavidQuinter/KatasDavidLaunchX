{
 "cells": [
  {
   "cell_type": "markdown",
   "metadata": {},
   "source": [
    "# Ejercicio: Uso de funciones en Python"
   ]
  },
  {
   "cell_type": "code",
   "execution_count": 12,
   "metadata": {},
   "outputs": [
    {
     "name": "stdout",
     "output_type": "stream",
     "text": [
      "78.33333333333333\n",
      "    \n"
     ]
    }
   ],
   "source": [
    "def combustible(primero, segundo, tercero):\n",
    "    combustible_total = (primero + segundo + tercero) / 3\n",
    "    return f\"\"\"{combustible_total}\n",
    "    \"\"\"\n",
    "print(combustible(80, 70, 85))"
   ]
  },
  {
   "cell_type": "code",
   "execution_count": 15,
   "metadata": {},
   "outputs": [
    {
     "data": {
      "text/plain": [
       "13.0"
      ]
     },
     "execution_count": 15,
     "metadata": {},
     "output_type": "execute_result"
    }
   ],
   "source": [
    "def combustible(values):\n",
    "    total = sum(values)\n",
    "    items = len(values)\n",
    "    return total / items\n",
    "combustible([12,13,14])"
   ]
  },
  {
   "cell_type": "code",
   "execution_count": 18,
   "metadata": {},
   "outputs": [
    {
     "name": "stdout",
     "output_type": "stream",
     "text": [
      "Fuel Report:\n",
      "    Total Average: 78.0%\n",
      "    Main tank: 88%\n",
      "    External tank: 76%\n",
      "    Hydrogen tank: 70% \n",
      "    \n"
     ]
    }
   ],
   "source": [
    "# funcion actualizada, me guíe de la respuesta ya que no sabia que queria decir con reporte\n",
    "# Actualiza la función\n",
    "def generate_report(main_tank, external_tank, hydrogen_tank):\n",
    "    total = main_tank + external_tank + hydrogen_tank\n",
    "    return f\"\"\"Fuel Report:\n",
    "    Total Average: {total/3}%\n",
    "    Main tank: {main_tank}%\n",
    "    External tank: {external_tank}%\n",
    "    Hydrogen tank: {hydrogen_tank}% \n",
    "    \"\"\"\n",
    "\n",
    "# Call the updated function again with different values\n",
    "print(generate_report(88, 76, 70))"
   ]
  },
  {
   "cell_type": "markdown",
   "metadata": {},
   "source": [
    "## Ejercicio 2: Trabajo con argumentos de palabra clave"
   ]
  },
  {
   "cell_type": "code",
   "execution_count": 20,
   "metadata": {},
   "outputs": [
    {
     "name": "stdout",
     "output_type": "stream",
     "text": [
      "\n",
      "    mision con destino a Moon\n",
      "    tiempo total de viaje : 65 minutos\n",
      "    total de combustible : 500000\n",
      "    \n"
     ]
    }
   ],
   "source": [
    "def informe(prelanzamiento, tiempo_de_vuelo, destino, tanque_externo, tanque_interno):\n",
    "    return f\"\"\"\n",
    "    mision con destino a {destino}\n",
    "    tiempo total de viaje : {prelanzamiento + tiempo_de_vuelo} minutos\n",
    "    total de combustible : {tanque_externo + tanque_interno}\n",
    "    \"\"\"\n",
    "print(informe(14, 51, \"Moon\", 200000, 300000))"
   ]
  },
  {
   "cell_type": "code",
   "execution_count": 25,
   "metadata": {},
   "outputs": [
    {
     "name": "stdout",
     "output_type": "stream",
     "text": [
      "\n",
      "    mision con destino a Moon\n",
      "    tiempo total de viaje : 76 minutos\n",
      "    total de combustible : 500000\n",
      "    main tank ---> 300000 galons left\n",
      "external tank ---> 200000 galons left\n",
      "\n"
     ]
    }
   ],
   "source": [
    "def informe(destino, *tiempo, **combustible):\n",
    "    reporte = f\"\"\"\n",
    "    mision con destino a {destino}\n",
    "    tiempo total de viaje : {sum(tiempo)} minutos\n",
    "    total de combustible : {sum(combustible.values())}\n",
    "    \"\"\"\n",
    "    for i, k in combustible.items():\n",
    "        reporte += f\"{i} tank ---> {k} galons left\\n\"\n",
    "    return reporte\n",
    "print(informe(\"Moon\", 10, 15, 51, main=300000, external=200000))"
   ]
  }
 ],
 "metadata": {
  "interpreter": {
   "hash": "4f3fd63b71fe717fa961781aa3813f1b5a0c6dbbf458bbcf15148217e0f2df56"
  },
  "kernelspec": {
   "display_name": "Python 3.10.2 ('env': venv)",
   "language": "python",
   "name": "python3"
  },
  "language_info": {
   "codemirror_mode": {
    "name": "ipython",
    "version": 3
   },
   "file_extension": ".py",
   "mimetype": "text/x-python",
   "name": "python",
   "nbconvert_exporter": "python",
   "pygments_lexer": "ipython3",
   "version": "3.10.2"
  },
  "orig_nbformat": 4
 },
 "nbformat": 4,
 "nbformat_minor": 2
}
