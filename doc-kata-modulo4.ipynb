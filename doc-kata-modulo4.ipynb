{
 "cells": [
  {
   "cell_type": "markdown",
   "metadata": {},
   "source": [
    "# Ejercicio 1: Transformar cadenas\n"
   ]
  },
  {
   "cell_type": "code",
   "execution_count": 22,
   "metadata": {},
   "outputs": [
    {
     "name": "stdout",
     "output_type": "stream",
     "text": [
      " The Moon is Earth's only satellite\n",
      " On average, the Moon moves 4cm away from the Earth every year\n",
      " The highest daylight temperature of the Moon is 127 C\n",
      "+++++++\n",
      " The Moon is Earth's only satellite\n",
      " On average, the Moon moves 4cm away from the Earth every year\n",
      " The highest daylight temperature of the Moon is 127 Celsius\n"
     ]
    }
   ],
   "source": [
    "text = \"\"\"Interesting facts about the Moon. The Moon is Earth's only satellite. There are several interesting facts about the Moon and how it affects life here on Earth. On average, the Moon moves 4cm away from the Earth every year. This yearly drift is not significant enough to cause immediate effects on Earth. The highest daylight temperature of the Moon is 127 C.\"\"\"\n",
    "inter = text.split('.')\n",
    "palabras = 'only', 'average', 'temperature'\n",
    "for i in inter:\n",
    "    for k in palabras:\n",
    "        if k in i:\n",
    "            print(i)\n",
    "            break\n",
    "print(\"+++++++\")\n",
    "for i in inter:\n",
    "    for k in palabras:\n",
    "        if k in i:\n",
    "            print(i.replace('C', 'Celsius'))"
   ]
  },
  {
   "cell_type": "markdown",
   "metadata": {},
   "source": [
    "# Ejercicio 2"
   ]
  },
  {
   "cell_type": "code",
   "execution_count": 40,
   "metadata": {},
   "outputs": [
    {
     "name": "stdout",
     "output_type": "stream",
     "text": [
      "Gravity Facts About Moon \n",
      "--------------------------------------------------------------------------------\n",
      "planet name : Earth\n",
      "gravity on Moon : 1.6199999999999999 m/s2 \n",
      "\n"
     ]
    }
   ],
   "source": [
    "#titulo Gravity Facts about Earth and Moon\n",
    "name = \"Moon\"\n",
    "gravity = 0.00162 # in kms\n",
    "planet = \"Earth\"\n",
    "\n",
    "titulo = ('Gravity Facts about ' + name)\n",
    "hechos = f\"\"\"{'-'*80}\n",
    "planet name : {planet}\n",
    "gravity on {name} : {gravity*1000} m/s2\"\"\"\n",
    "union = f\"\"\"{titulo.title()} \n",
    "{hechos} \n",
    "\"\"\"\n",
    "print (union)"
   ]
  },
  {
   "cell_type": "code",
   "execution_count": 39,
   "metadata": {},
   "outputs": [
    {
     "name": "stdout",
     "output_type": "stream",
     "text": [
      "Gravity Facts About Ganímedes \n",
      "--------------------------------------------------------------------------------\n",
      "planet name : Marte \n",
      "gravity on Ganímedes : 1.4300000000000002 m/s2 \n",
      "\n"
     ]
    }
   ],
   "source": [
    "planet = 'Marte '\n",
    "gravity  = 0.00143\n",
    "name = 'Ganímedes'\n",
    "titulo = ('Gravity Facts about ' + name)\n",
    "hechos = f\"\"\"{'-'*80}\n",
    "planet name : {planet}\n",
    "gravity on {name} : {gravity*1000} m/s2\"\"\"\n",
    "union = f\"\"\"{titulo.title()} \n",
    "{hechos} \n",
    "\"\"\"\n",
    "print (union)"
   ]
  },
  {
   "cell_type": "markdown",
   "metadata": {},
   "source": [
    "La salida no muestra información sobre Marte. Todavía muestra información sobre la Luna. Esto sucede porque las cadenas f están ansiosas en su evaluación, por lo que las variables una vez asignadas no se pueden reasignar. Para evitar este problema, vuelva a hacer la plantilla para utilizar .format():"
   ]
  },
  {
   "cell_type": "code",
   "execution_count": 46,
   "metadata": {},
   "outputs": [
    {
     "name": "stdout",
     "output_type": "stream",
     "text": [
      "Gravity Facts About : Moon\n",
      "-------------------------------------------------------------\n",
      "planet name : Earth\n",
      "gravity on Moon : 1.6199999999999999 m/s2\n",
      "\n"
     ]
    }
   ],
   "source": [
    "name = \"Moon\"\n",
    "gravity = 0.00162 # in kms\n",
    "planet = \"Earth\"\n",
    "\n",
    "nueva = \"\"\"Gravity Facts About : {name}\n",
    "-------------------------------------------------------------\n",
    "planet name : {planet}\n",
    "gravity on {name} : {gravity} m/s2\n",
    "\"\"\"\n",
    "print(nueva.format(planet = planet, name = name, gravity= gravity*1000))"
   ]
  }
 ],
 "metadata": {
  "interpreter": {
   "hash": "4f3fd63b71fe717fa961781aa3813f1b5a0c6dbbf458bbcf15148217e0f2df56"
  },
  "kernelspec": {
   "display_name": "Python 3.10.2 ('env': venv)",
   "language": "python",
   "name": "python3"
  },
  "language_info": {
   "codemirror_mode": {
    "name": "ipython",
    "version": 3
   },
   "file_extension": ".py",
   "mimetype": "text/x-python",
   "name": "python",
   "nbconvert_exporter": "python",
   "pygments_lexer": "ipython3",
   "version": "3.10.2"
  },
  "orig_nbformat": 4
 },
 "nbformat": 4,
 "nbformat_minor": 2
}
