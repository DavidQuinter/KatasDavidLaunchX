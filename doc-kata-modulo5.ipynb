{
 "cells": [
  {
   "cell_type": "code",
   "execution_count": 1,
   "metadata": {},
   "outputs": [
    {
     "name": "stdout",
     "output_type": "stream",
     "text": [
      "13\n",
      "12\n"
     ]
    }
   ],
   "source": [
    "from math import ceil, floor\n",
    "\n",
    "round_up = ceil(12.5)\n",
    "print(round_up)\n",
    "\n",
    "round_down = floor(12.5)\n",
    "print(round_down)"
   ]
  },
  {
   "cell_type": "markdown",
   "metadata": {},
   "source": [
    "# Ejercicio1 - Utilizar operadores aritméticos"
   ]
  },
  {
   "cell_type": "code",
   "execution_count": 11,
   "metadata": {},
   "outputs": [
    {
     "name": "stdout",
     "output_type": "stream",
     "text": [
      "Hay una distancia de 628949330 kilometros\n",
      "Hay una distancia de 390577534 millas\n"
     ]
    }
   ],
   "source": [
    "from math import  ceil, floor\n",
    "tierra = 149597870    #km \n",
    "jupiter = 778547200   #km\n",
    "distanciakm = f\"\"\"Hay una distancia de {abs(tierra - jupiter)} kilometros\"\"\"\n",
    "distanciami = f\"\"\"Hay una distancia de {ceil((abs(tierra - jupiter)*0.621))} millas\"\"\"\n",
    "print(distanciakm)\n",
    "print(distanciami)\n",
    "\n"
   ]
  },
  {
   "cell_type": "markdown",
   "metadata": {},
   "source": [
    "# Ejercicio 2: convierte cadenas en números y usa valores absolutos"
   ]
  },
  {
   "cell_type": "code",
   "execution_count": 4,
   "metadata": {},
   "outputs": [
    {
     "name": "stdout",
     "output_type": "stream",
     "text": [
      "Hay una distancia de 1221293 km\n",
      "Hay una distancia de 74499 millas\n"
     ]
    }
   ],
   "source": [
    "from math import ceil, floor\n",
    "\n",
    "planeta1 = input(\"Distancia del primer planeta : \")\n",
    "planeta2 = input(\"Distancia del primer planeta : \")\n",
    "\n",
    "valorP1 = int(planeta1)\n",
    "valorP2 = int(planeta2)\n",
    "diferencia = abs(valorP1-valorP2)\n",
    "distanciaKm = f\"\"\"Hay una distancia de {diferencia} km\"\"\"\n",
    "distanciami = f\"\"\"Hay una distancia de {ceil(diferencia*0.061)} millas\"\"\" #km a mi\n",
    "\n",
    "print(distanciaKm)\n",
    "print(distanciami)\n",
    "\n"
   ]
  }
 ],
 "metadata": {
  "interpreter": {
   "hash": "4f3fd63b71fe717fa961781aa3813f1b5a0c6dbbf458bbcf15148217e0f2df56"
  },
  "kernelspec": {
   "display_name": "Python 3.10.2 ('env': venv)",
   "language": "python",
   "name": "python3"
  },
  "language_info": {
   "codemirror_mode": {
    "name": "ipython",
    "version": 3
   },
   "file_extension": ".py",
   "mimetype": "text/x-python",
   "name": "python",
   "nbconvert_exporter": "python",
   "pygments_lexer": "ipython3",
   "version": "3.10.2"
  },
  "orig_nbformat": 4
 },
 "nbformat": 4,
 "nbformat_minor": 2
}
